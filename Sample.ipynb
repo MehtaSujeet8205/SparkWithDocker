{
 "cells": [
  {
   "cell_type": "code",
   "execution_count": null,
   "metadata": {},
   "outputs": [],
   "source": [
    "#Load all the required library\n",
    "from pyspark.sql import SparkSession\n",
    "from pathlib import Path\n",
    "from datetime import datetime\n",
    "import yaml\n",
    "import json\n",
    "import http.client\n",
    "import requests\n",
    "import sys\n",
    "import pandas\n",
    "import os\n",
    "import shutil"
   ]
  },
  {
   "cell_type": "code",
   "execution_count": null,
   "metadata": {},
   "outputs": [],
   "source": [
    "#Start Spark Session\n",
    "spark = SparkSession.builder.appName(\"newSparkSession\").getOrCreate()\n",
    "sqlContext = SparkSession(spark)\n",
    "#Dont Show warning\n",
    "spark.sparkContext.setLogLevel(\"WARN\")"
   ]
  }
 ],
 "metadata": {
  "language_info": {
   "name": "python"
  },
  "orig_nbformat": 4
 },
 "nbformat": 4,
 "nbformat_minor": 2
}
